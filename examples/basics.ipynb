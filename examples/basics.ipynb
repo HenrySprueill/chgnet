{
 "cells": [
  {
   "cell_type": "markdown",
   "id": "0",
   "metadata": {},
   "source": [
    "# This notebook shows example to load the CHGNet for prediction\n"
   ]
  },
  {
   "cell_type": "code",
   "execution_count": 2,
   "id": "1",
   "metadata": {},
   "outputs": [],
   "source": [
    "from chgnet.model import CHGNet\n"
   ]
  },
  {
   "cell_type": "code",
   "execution_count": 3,
   "id": "2",
   "metadata": {},
   "outputs": [],
   "source": [
    "import numpy as np\n",
    "from pymatgen.core import Structure\n",
    "\n",
    "from chgnet.model import CHGNet\n",
    "\n",
    "# If the above line fails in Google Colab due to numpy version issue,\n",
    "# please restart the runtime, and the problem will be solved\n",
    "\n",
    "np.set_printoptions(precision=4, suppress=True)"
   ]
  },
  {
   "cell_type": "markdown",
   "id": "3",
   "metadata": {},
   "source": [
    "### Read structure from a json or cif file\n"
   ]
  },
  {
   "cell_type": "code",
   "execution_count": 4,
   "id": "4",
   "metadata": {},
   "outputs": [
    {
     "name": "stdout",
     "output_type": "stream",
     "text": [
      "Full Formula (Li2 Mn2 O4)\n",
      "Reduced Formula: LiMnO2\n",
      "abc   :   2.868779   4.634475   5.832507\n",
      "angles:  90.000000  90.000000  90.000000\n",
      "pbc   :       True       True       True\n",
      "Sites (8)\n",
      "  #  SP      a    b         c\n",
      "---  ----  ---  ---  --------\n",
      "  0  Li+   0.5  0.5  0.37975\n",
      "  1  Li+   0    0    0.62025\n",
      "  2  Mn3+  0.5  0.5  0.863252\n",
      "  3  Mn3+  0    0    0.136747\n",
      "  4  O2-   0.5  0    0.360824\n",
      "  5  O2-   0    0.5  0.098514\n",
      "  6  O2-   0.5  0    0.901486\n",
      "  7  O2-   0    0.5  0.639176\n"
     ]
    }
   ],
   "source": [
    "try:\n",
    "    from chgnet import ROOT\n",
    "\n",
    "    \n",
    "    structure = Structure.from_file(f\"{ROOT}/examples/mp-18767-LiMnO2.cif\")\n",
    "except Exception:\n",
    "    from urllib.request import urlopen\n",
    "\n",
    "    url = \"https://raw.githubusercontent.com/CederGroupHub/chgnet/main/examples/mp-18767-LiMnO2.cif\"\n",
    "    cif = urlopen(url).read().decode(\"utf-8\")\n",
    "    structure = Structure.from_str(cif, fmt=\"cif\")\n",
    "\n",
    "print(structure)"
   ]
  },
  {
   "cell_type": "markdown",
   "id": "5",
   "metadata": {},
   "source": [
    "### Define Model\n"
   ]
  },
  {
   "cell_type": "code",
   "execution_count": 20,
   "id": "6",
   "metadata": {},
   "outputs": [
    {
     "name": "stdout",
     "output_type": "stream",
     "text": [
      "CHGNet initialized with 412,525 parameters\n"
     ]
    }
   ],
   "source": [
    "chgnet = CHGNet.load()\n",
    "chgnet = CHGNet(device=\"cuda:1\")\n",
    "\n",
    "# Alternatively you can read your own model\n",
    "# chgnet = CHGNet.from_file(model_path)"
   ]
  },
  {
   "cell_type": "markdown",
   "id": "7",
   "metadata": {},
   "source": [
    "# Predict energy, force, stress, magmom\n"
   ]
  },
  {
   "cell_type": "code",
   "execution_count": 21,
   "id": "8",
   "metadata": {
    "pycharm": {
     "name": "#%%\n"
    }
   },
   "outputs": [
    {
     "name": "stdout",
     "output_type": "stream",
     "text": [
      "CHGNet-predicted energy (eV/atom):\n",
      "-7.0185370445251465\n",
      "\n",
      "CHGNet-predicted forces (eV/A):\n",
      "[[-0.     -0.     -0.0092]\n",
      " [ 0.     -0.      0.0092]\n",
      " [ 0.     -0.     -0.0049]\n",
      " [-0.      0.      0.0049]\n",
      " [ 0.     -0.      0.0086]\n",
      " [-0.      0.      0.03  ]\n",
      " [-0.     -0.     -0.03  ]\n",
      " [-0.     -0.     -0.0086]]\n",
      "\n",
      "CHGNet-predicted stress (GPa):\n",
      "[[ 0.211  -0.     -0.    ]\n",
      " [-0.      0.5808 -0.    ]\n",
      " [-0.      0.      0.34  ]]\n",
      "\n",
      "CHGNet-predicted magmom (mu_B):\n",
      "[1.0071 1.0071 0.4953 0.4953 0.2748 0.2847 0.2847 0.2748]\n",
      "\n"
     ]
    }
   ],
   "source": [
    "prediction = chgnet.predict_structure(structure)\n",
    "\n",
    "for key, unit in [\n",
    "    (\"energy\", \"eV/atom\"),\n",
    "    (\"forces\", \"eV/A\"),\n",
    "    (\"stress\", \"GPa\"),\n",
    "    (\"magmom\", \"mu_B\"),\n",
    "]:\n",
    "    print(f\"CHGNet-predicted {key} ({unit}):\\n{prediction[key[0]]}\\n\")"
   ]
  },
  {
   "cell_type": "markdown",
   "id": "9",
   "metadata": {},
   "source": [
    "# Structure Optimization\n"
   ]
  },
  {
   "cell_type": "code",
   "execution_count": 6,
   "id": "10",
   "metadata": {},
   "outputs": [
    {
     "name": "stdout",
     "output_type": "stream",
     "text": [
      "CHGNet v0.3.0 initialized with 412,525 parameters\n",
      "CHGNet will run on cuda\n"
     ]
    }
   ],
   "source": [
    "from chgnet.model import StructOptimizer\n",
    "\n",
    "relaxer = StructOptimizer()"
   ]
  },
  {
   "cell_type": "code",
   "execution_count": 7,
   "id": "11",
   "metadata": {},
   "outputs": [
    {
     "name": "stdout",
     "output_type": "stream",
     "text": [
      "      Step     Time          Energy          fmax\n",
      "FIRE:    0 16:43:26      -58.941528        0.092591\n",
      "Relaxed structure:\n",
      "\n",
      "Full Formula (Li2 Mn2 O4)\n",
      "Reduced Formula: LiMnO2\n",
      "abc   :   2.868779   4.634475   5.832507\n",
      "angles:  90.000000  90.000000  90.000000\n",
      "pbc   :       True       True       True\n",
      "Sites (8)\n",
      "  #  SP           a         b         c      magmom\n",
      "---  ----  --------  --------  --------  ----------\n",
      "  0  Li+   0.506582  0.495719  0.39624   0.00304922\n",
      "  1  Li+   0.006582  0.995719  0.636739  0.00304922\n",
      "  2  Mn3+  0.506582  0.495719  0.879742  3.86942\n",
      "  3  Mn3+  0.006582  0.995719  0.153237  3.86942\n",
      "  4  O2-   0.506582  0.995719  0.377314  0.0441356\n",
      "  5  O2-   0.006582  0.495719  0.115003  0.0386223\n",
      "  6  O2-   0.506582  0.995719  0.917976  0.0386221\n",
      "  7  O2-   0.006582  0.495719  0.655665  0.0441358\n"
     ]
    }
   ],
   "source": [
    "# Perturb the structure\n",
    "structure.perturb(0.1)\n",
    "\n",
    "# Relax the perturbed structure\n",
    "result = relaxer.relax(structure, verbose=True)\n",
    "print(\"Relaxed structure:\\n\")\n",
    "print(result[\"final_structure\"])"
   ]
  },
  {
   "cell_type": "markdown",
   "id": "12",
   "metadata": {},
   "source": [
    "# Molecular Dynamics\n"
   ]
  },
  {
   "cell_type": "code",
   "execution_count": null,
   "id": "13",
   "metadata": {},
   "outputs": [
    {
     "name": "stdout",
     "output_type": "stream",
     "text": [
      "CHGNet will run on cuda\n",
      "NVT-Berendsen-MD created\n"
     ]
    }
   ],
   "source": [
    "from chgnet.model.dynamics import MolecularDynamics\n",
    "\n",
    "md = MolecularDynamics(\n",
    "    atoms=structure,\n",
    "    model=chgnet,\n",
    "    ensemble=\"nvt\",\n",
    "    temperature=1000,  # in k\n",
    "    timestep=2,  # in fs\n",
    "    trajectory=\"md_out.traj\",\n",
    "    loginterval=10,\n",
    ")\n",
    "md.run(500)  # run a 0.1 ps MD simulation"
   ]
  },
  {
   "cell_type": "markdown",
   "id": "14",
   "metadata": {},
   "source": [
    "# Magmom Visualization\n"
   ]
  },
  {
   "cell_type": "code",
   "execution_count": null,
   "id": "15",
   "metadata": {},
   "outputs": [],
   "source": [
    "supercell = structure.make_supercell([2, 2, 2], in_place=False)\n",
    "print(supercell.composition)"
   ]
  },
  {
   "cell_type": "code",
   "execution_count": null,
   "id": "16",
   "metadata": {},
   "outputs": [],
   "source": [
    "import random\n",
    "\n",
    "n_Li = int(supercell.composition[\"Li+\"])\n",
    "remove_ids = random.sample(list(range(n_Li)), n_Li // 2)\n",
    "\n",
    "supercell.remove_sites(remove_ids)\n",
    "print(supercell.composition)"
   ]
  },
  {
   "cell_type": "code",
   "execution_count": null,
   "id": "17",
   "metadata": {},
   "outputs": [],
   "source": [
    "result = relaxer.relax(supercell)"
   ]
  },
  {
   "cell_type": "code",
   "execution_count": null,
   "id": "18",
   "metadata": {},
   "outputs": [],
   "source": [
    "import pandas as pd\n",
    "\n",
    "df_magmom = pd.DataFrame({\"Unrelaxed\": chgnet.predict_structure(supercell)[\"m\"]})\n",
    "df_magmom[\"CHGNet relaxed\"] = result[\"final_structure\"].site_properties[\"magmom\"]"
   ]
  },
  {
   "cell_type": "code",
   "execution_count": null,
   "id": "19",
   "metadata": {},
   "outputs": [],
   "source": [
    "fig = df_magmom.hist(\n",
    "    nbins=200,\n",
    "    sharex=True,\n",
    "    sharey=True,\n",
    "    backend=\"plotly\",\n",
    "    barmode=\"overlay\",\n",
    "    layout={\"title\": \"Magmom distribution\"},\n",
    "    opacity=0.7,\n",
    "    range_x=[3, 4],\n",
    "    template=\"plotly_white\",\n",
    ")\n",
    "fig.layout.legend.update(title=\"\", x=1, y=1, xanchor=\"right\", yanchor=\"top\")\n",
    "fig.layout.xaxis.title = \"Magnetic moment\"\n",
    "fig.show()"
   ]
  },
  {
   "cell_type": "code",
   "execution_count": null,
   "id": "670a3431-9c8d-4afe-8acf-611641b77f28",
   "metadata": {},
   "outputs": [],
   "source": []
  },
  {
   "cell_type": "code",
   "execution_count": null,
   "id": "6928d6aa-219c-4e65-860f-50ec140f026b",
   "metadata": {},
   "outputs": [],
   "source": []
  }
 ],
 "metadata": {
  "kernelspec": {
   "display_name": "Python 3 (ipykernel)",
   "language": "python",
   "name": "python3"
  },
  "language_info": {
   "codemirror_mode": {
    "name": "ipython",
    "version": 3
   },
   "file_extension": ".py",
   "mimetype": "text/x-python",
   "name": "python",
   "nbconvert_exporter": "python",
   "pygments_lexer": "ipython3",
   "version": "3.11.11"
  }
 },
 "nbformat": 4,
 "nbformat_minor": 5
}
